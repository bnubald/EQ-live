{
  "nbformat": 4,
  "nbformat_minor": 0,
  "metadata": {
    "colab": {
      "name": "Untitled2.ipynb",
      "provenance": [],
      "authorship_tag": "ABX9TyP7EVIyHvHzTudUbyrxUm+S",
      "include_colab_link": true
    },
    "kernelspec": {
      "name": "python3",
      "display_name": "Python 3"
    }
  },
  "cells": [
    {
      "cell_type": "markdown",
      "metadata": {
        "id": "view-in-github",
        "colab_type": "text"
      },
      "source": [
        "<a href=\"https://colab.research.google.com/github/bnubald/EQ-live/blob/master/Tutorials/6_Polynomial_regression.ipynb\" target=\"_parent\"><img src=\"https://colab.research.google.com/assets/colab-badge.svg\" alt=\"Open In Colab\"/></a>"
      ]
    },
    {
      "cell_type": "markdown",
      "metadata": {
        "id": "GJEe6eS3bMAo",
        "colab_type": "text"
      },
      "source": [
        "# Polynomial regression\n",
        "-----------------------"
      ]
    },
    {
      "cell_type": "markdown",
      "metadata": {
        "id": "QtTZA6OPbRLf",
        "colab_type": "text"
      },
      "source": [
        "So you have some data, and you’d like to get a \"best-fit” curve through the data. No problem. That’s pretty much what this guide seeks to do. So let’s get started; consider the data set below.\n",
        "\n",
        "---\n",
        "\n",
        "*Sample data for regression:*\n",
        "\n",
        "| X | Y |\n",
        "| - | :- |\n",
        "| 0.0 | 6.8053 |\n",
        "| 0.0714 | -1.5184 |\n",
        "| 0.1429 | 1.6416 |\n",
        "| 0.2857 | 6.3543 |\n",
        "| 0.3571 | 14.3442 |\n",
        "| 0.4286 | 16.4426 |\n",
        "| 0.5714 | 18.1953 |\n",
        "| 0.6429 | 28.9913 |\n",
        "| 0.7143 | 27.2246 |\n",
        "| 0.7857 | 40.3759 |\n",
        "| 0.9286 | 55.3726 |\n",
        "| 1.0000 | 72.0 |\n",
        "\n",
        "\n",
        "Our goal is to compute the best fit a polynomial approximation through this data set. We begin by calling two classes from the code. The first class is the Parameter class, that handles all the information regarding the independent variable, or parameter. The second class is the Polyreg class, which actually generates the “best-fit” curve using the information in the parameter. To begin, lets load the data.\n"
      ]
    },
    {
      "cell_type": "code",
      "metadata": {
        "id": "1HJh5kBGbKIg",
        "colab_type": "code",
        "colab": {}
      },
      "source": [
        "#_______________________________________________________________________\n",
        "# Initial check to see if in Google Colab environment\n",
        "import sys\n",
        "IN_COLAB = 'google.colab' in sys.modules\n",
        "\n",
        "# Install effective-quadratures if in Google Colab environment\n",
        "# and not already installed\n",
        "if IN_COLAB and 'equadratures' not in sys.modules:\n",
        "    !pip install equadratures"
      ],
      "execution_count": 0,
      "outputs": []
    },
    {
      "cell_type": "code",
      "metadata": {
        "id": "G8Dzk7LTd1DL",
        "colab_type": "code",
        "colab": {}
      },
      "source": [
        "from equadratures import Parameter, Basis, Poly, evaluate_model\n",
        "import numpy as np\n",
        "import matplotlib.pyplot as plt\n",
        "\n",
        "dimensions = 1\n",
        "M = 12\n",
        "param = Parameter(distribution='Uniform', lower=0, upper=1.0, order=1)\n",
        "myParameters = [param for i in range(dimensions)] # one-line for loop for parameters\n",
        "x_train = np.mat([0,0.0714,0.1429,0.2857,0.3571,0.4286,0.5714,0.6429,0.7143,\\\n",
        "                  0.7857,0.9286,1.0000], dtype='float64')\n",
        "y_train = np.mat([6.8053,-1.5184,1.6416,6.3543,14.3442,16.4426,18.1953,\\\n",
        "                  28.9913,27.2246,40.3759,55.3726,72.0], dtype='float64')\n",
        "x_train = np.reshape(x_train, (M, 1))\n",
        "y_train = np.reshape(y_train, (M, 1))"
      ],
      "execution_count": 0,
      "outputs": []
    },
    {
      "cell_type": "markdown",
      "metadata": {
        "id": "enKwi7oGeEYW",
        "colab_type": "text"
      },
      "source": [
        "Now we use the univariate basis in the polyreg class."
      ]
    },
    {
      "cell_type": "code",
      "metadata": {
        "id": "sX9DcBgIeFVq",
        "colab_type": "code",
        "colab": {
          "base_uri": "https://localhost:8080/",
          "height": 301
        },
        "outputId": "c39a97d8-872d-4f06-dedf-fb93b11b4826"
      },
      "source": [
        "myBasis = Basis('Univariate')\n",
        "poly = Poly(myParameters, myBasis, method='least-squares',\n",
        "            sampling_args={'sample-points':x_train,\n",
        "                           'sample-outputs':y_train} )\n",
        "poly.set_model()\n",
        "N = 100\n",
        "x_test = np.reshape(np.linspace(0, 1, N), (N, 1) )\n",
        "\n",
        "# Plot the results\n",
        "fig = plt.figure()\n",
        "for i in range(0, M):\n",
        "  plt.scatter(x_train[i,0], y_train[i,0], marker='o', s=80, color='tomato')\n",
        "plt.plot(x_test, poly.get_polyfit(x_test), 'k-')\n",
        "plt.xlabel('$X$')\n",
        "plt.ylabel('$Y$')\n",
        "caption = 'Figure. A linear model fit (-) for the data (o).'\n",
        "fig.text(0.5, -0.05, caption, ha='center');"
      ],
      "execution_count": 3,
      "outputs": [
        {
          "output_type": "display_data",
          "data": {
            "image/png": "[encoded data removed]",
            "text/plain": [
              "<Figure size 432x288 with 1 Axes>"
            ]
          },
          "metadata": {
            "tags": [],
            "needs_background": "light"
          }
        }
      ]
    },
    {
      "cell_type": "markdown",
      "metadata": {
        "id": "Um2M4x0Ge7--",
        "colab_type": "text"
      },
      "source": [
        "Now, we repeat the same experiment, but increase the order of the polynomial!"
      ]
    },
    {
      "cell_type": "code",
      "metadata": {
        "id": "uHtAj0mSe-CM",
        "colab_type": "code",
        "colab": {
          "base_uri": "https://localhost:8080/",
          "height": 301
        },
        "outputId": "e253670d-753c-4e84-fcd5-a41153d2afec"
      },
      "source": [
        "myBasis = Basis('Univariate')\n",
        "param = Parameter(distribution='Uniform', lower=0, upper=1.0, order=2)\n",
        "myParameters = [param for i in range(dimensions)] # one-line for loop for parameters\n",
        "poly = Poly(myParameters, myBasis, method='least-squares',\n",
        "            sampling_args={'sample-points':x_train,\n",
        "                           'sample-outputs':y_train} )\n",
        "poly.set_model()\n",
        "\n",
        "# Plot the results\n",
        "fig = plt.figure()\n",
        "for i in range(0, M):\n",
        "  plt.scatter(x_train[i,0], y_train[i,0], marker='o', s=80, color='tomato')\n",
        "plt.plot(x_test, poly.get_polyfit(x_test), 'k-')\n",
        "plt.xlabel('$X$')\n",
        "plt.ylabel('$Y$')\n",
        "caption = 'Figure. A quadratic model fit (-) for the data (o).'\n",
        "fig.text(0.5, -0.05, caption, ha='center');"
      ],
      "execution_count": 4,
      "outputs": [
        {
          "output_type": "display_data",
          "data": {
            "image/png": "[encoded data removed]",
            "text/plain": [
              "<Figure size 432x288 with 1 Axes>"
            ]
          },
          "metadata": {
            "tags": [],
            "needs_background": "light"
          }
        }
      ]
    },
    {
      "cell_type": "markdown",
      "metadata": {
        "id": "AP4mfx2ggC72",
        "colab_type": "text"
      },
      "source": [
        "The full source code for this tutorial can be found [here](https://github.com/Effective-Quadratures/Effective-Quadratures/blob/master/source/_documentation/codes/tutorial_6.py)"
      ]
    }
  ]
}