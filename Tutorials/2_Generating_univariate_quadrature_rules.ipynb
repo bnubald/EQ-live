{
  "nbformat": 4,
  "nbformat_minor": 0,
  "metadata": {
    "colab": {
      "name": "Untitled",
      "provenance": [],
      "authorship_tag": "ABX9TyOGOZlq9eTj/Cv+h7OkfdUv",
      "include_colab_link": true
    },
    "kernelspec": {
      "name": "python3",
      "display_name": "Python 3"
    }
  },
  "cells": [
    {
      "cell_type": "markdown",
      "metadata": {
        "id": "view-in-github",
        "colab_type": "text"
      },
      "source": [
        "<a href=\"https://colab.research.google.com/github/bnubald/EQ-live/blob/master/Tutorials/2_Generating_univariate_quadrature_rules.ipynb\" target=\"_parent\"><img src=\"https://colab.research.google.com/assets/colab-badge.svg\" alt=\"Open In Colab\"/></a>"
      ]
    },
    {
      "cell_type": "markdown",
      "metadata": {
        "id": "kaUWr0yN6Oud",
        "colab_type": "text"
      },
      "source": [
        "# Generating univariate quadrature rules\n",
        "----------------------------------------"
      ]
    },
    {
      "cell_type": "markdown",
      "metadata": {
        "id": "rXw7mTiU6VwF",
        "colab_type": "text"
      },
      "source": [
        "There is an intimate relationship between orthogonal polynomials and quadrature points. In this tutorial, we demonstrate how one can use Effective Quadratures to compute univariate quadrature rules. For multivariate quadrature points and weights, please check out the tutorials on *Sparse and tensor grid quadrature rules*.\n",
        "\n",
        "Consider the task of integrating the function\n",
        "\n",
        "$$ I = \\int_{-1}^{1} f(s)\\ \\rho(s)\\ ds $$\n",
        "\n",
        "where the measure 𝜌(𝑠) is the uniform distribution over [−1,1]. Our task is to numerically approximate this integral using a quadrature rule, i.e.,\n",
        "\n",
        "$$ I \\approx 2 \\sum_{i=1}^{N} f(\\lambda_i)\\ \\omega_i $$\n",
        "\n",
        "where the pair {$\\lambda_i, \\omega_i $} $_{i=1}^{N}$ represents an N-point quadrature rule. The constant 2 arises because we are integrating over the range of 2 and our quadrature weights sum up to 1. To obtain such points in Effective Quadratures, one uses the following commands."
      ]
    },
    {
      "cell_type": "code",
      "metadata": {
        "id": "gTnBLEgu5jzj",
        "colab_type": "code",
        "colab": {}
      },
      "source": [
        "#_______________________________________________________________________\n",
        "# Initial check to see if in Google Colab environment\n",
        "import sys\n",
        "IN_COLAB = 'google.colab' in sys.modules\n",
        "\n",
        "# Install effective-quadratures if in Google Colab environment\n",
        "# and not already installed\n",
        "if IN_COLAB and 'equadratures' not in sys.modules:\n",
        "    !pip install equadratures"
      ],
      "execution_count": 0,
      "outputs": []
    },
    {
      "cell_type": "code",
      "metadata": {
        "id": "IsJDVUxn9EE6",
        "colab_type": "code",
        "colab": {}
      },
      "source": [
        "from equadratures import Parameter, Basis, Poly, evaluate_model\n",
        "import numpy as np\n",
        "import matplotlib.pyplot as plt\n",
        "\n",
        "order = 4\n",
        "s1 = Parameter(lower=-1, upper=1, order=order, distribution='Uniform')\n",
        "myBasis = Basis('Univariate')\n",
        "myPoly = Poly(s1, myBasis, method='numerical-integration')\n",
        "points, weights = myPoly.get_points_and_weights()"
      ],
      "execution_count": 0,
      "outputs": []
    },
    {
      "cell_type": "markdown",
      "metadata": {
        "id": "d39Byehk-ori",
        "colab_type": "text"
      },
      "source": [
        "The above quadrature rule is known as Gauss-Legendre. In practice if one wishes to evaluate an integral, the weights must be scaled depending on the domain of integration. Let $f(x) = x^7 - 3x^6 + x^5 - 10x^4 + 4$ be our function of choice, defined over the domain [−1,1]. The analytical integral for this function is 22/7. Now using our 5-point Gauss-Legendre quadrature rule, we obtain"
      ]
    },
    {
      "cell_type": "code",
      "metadata": {
        "id": "hgFzL1Lk_C5r",
        "colab_type": "code",
        "outputId": "68a10b1c-5182-4c51-eb2f-76cef0417e48",
        "colab": {
          "base_uri": "https://localhost:8080/",
          "height": 34
        }
      },
      "source": [
        "def function(x):\n",
        "        return x[0]**7 - 3.0*x[0]**6 + x[0]**5 - 10.0*x[0]**4 +4.0\n",
        "\n",
        "integral = float( 2.0* np.dot( weights, evaluate_model(points, function) ) )\n",
        "print(integral)"
      ],
      "execution_count": 3,
      "outputs": [
        {
          "output_type": "stream",
          "text": [
            "3.142857142857146\n"
          ],
          "name": "stdout"
        }
      ]
    },
    {
      "cell_type": "markdown",
      "metadata": {
        "id": "XKxvPIX-_k-V",
        "colab_type": "text"
      },
      "source": [
        "which is equivalent to 22/7. Note that the constant 2 arises because we are integrating over [−1,1] with the uniform measure, which has a density of 1/2.\n",
        "\n",
        "Now, in addition to standard Gauss-Christoffel quadrature rules (i.e., substitute different distributions in the definition of Parameter), Effective Quadratures also has Gauss-Christoffel-Lobatto rules, which feature end-points and Gauss-Christoffel-Radau rules, which feature either the upper or lower end-points. *i.e.*"
      ]
    },
    {
      "cell_type": "code",
      "metadata": {
        "id": "lRBtDi0iAM2I",
        "colab_type": "code",
        "colab": {}
      },
      "source": [
        "# Gauss-Legendre-Radau\n",
        "s2 = Parameter(lower=-1, upper=1, order=order, distribution='uniform',\n",
        "               endpoints='lower')\n",
        "s3 = Parameter(lower=-1, upper=1, order=order, distribution='uniform',\n",
        "               endpoints='upper')\n",
        "# Gauss-Legendre-Lobatto\n",
        "s4 = Parameter(lower=-1, upper=1, order=order, distribution='uniform',\n",
        "               endpoints='both')\n",
        "\n",
        "myPoly2 = Poly(s2, myBasis, method='numerical-integration')\n",
        "myPoly3 = Poly(s3, myBasis, method='numerical-integration')\n",
        "myPoly4 = Poly(s4, myBasis, method='numerical-integration')"
      ],
      "execution_count": 0,
      "outputs": []
    },
    {
      "cell_type": "code",
      "metadata": {
        "id": "DRJE92GrBsc6",
        "colab_type": "code",
        "outputId": "a09c1285-66a1-4d8f-f633-85a28601cee4",
        "colab": {
          "base_uri": "https://localhost:8080/",
          "height": 308
        }
      },
      "source": [
        "#_______________________________________________________________________\n",
        "# Plot the different quadrature rules\n",
        "zeros = np.zeros((order+1))\n",
        "fig = plt.figure()\n",
        "plt.xlabel('$s$')\n",
        "plt.ylabel('Quadrature points')\n",
        "plt.plot(myPoly.get_points(), zeros, 'o', c='crimson', lw=4, ms=15)\n",
        "plt.plot(myPoly2.get_points(), zeros-0.1, '<', c='orange', lw=4, ms=15)\n",
        "plt.plot(myPoly3.get_points(), zeros+0.1, '>', c='navy', lw=4, ms=15)\n",
        "plt.plot(myPoly4.get_points(), zeros+0.2, 's', c='limegreen', lw=4, ms=15)\n",
        "plt.grid()\n",
        "frame = plt.gca()\n",
        "frame.axes.yaxis.set_ticklabels([])\n",
        "caption = 'Figure. A comparison of order 4 Gauss-Legendre quadrature points ' \\\n",
        "        '(circles) with order\\n 4 Gauss-Legendre-Lobatto points (squares)' \\\n",
        "        ' and Gauss-Legendre-Radau (triangles).'\n",
        "fig.text(0.5, -0.075, caption, ha='center');"
      ],
      "execution_count": 5,
      "outputs": [
        {
          "output_type": "display_data",
          "data": {
            "image/png": "[encoded data removed]",
            "text/plain": [
              "<Figure size 432x288 with 1 Axes>"
            ]
          },
          "metadata": {
            "tags": [],
            "needs_background": "light"
          }
        }
      ]
    },
    {
      "cell_type": "markdown",
      "metadata": {
        "id": "COxoF2CMGTOw",
        "colab_type": "text"
      },
      "source": [
        "To verify the accuracy of these points, we use the same code as above."
      ]
    },
    {
      "cell_type": "code",
      "metadata": {
        "id": "c8kE0HEyGWAB",
        "colab_type": "code",
        "outputId": "24e1c2a1-2383-415e-8cfb-d4f091441c8d",
        "colab": {
          "base_uri": "https://localhost:8080/",
          "height": 86
        }
      },
      "source": [
        "# Gauss-Legendre-Radau\n",
        "points2, weights2 = myPoly2.get_points_and_weights()\n",
        "points3, weights3 = myPoly3.get_points_and_weights()\n",
        "# Gauss-Legendre-Lobatto\n",
        "points4, weights4 = myPoly4.get_points_and_weights()\n",
        "\n",
        "integral2 = float( 2.0*np.dot(weights2, evaluate_model(points2, function) ) )\n",
        "integral3 = float( 2.0*np.dot(weights3, evaluate_model(points3, function) ) )\n",
        "integral4 = float( 2.0*np.dot(weights4, evaluate_model(points4, function) ) )\n",
        "\n",
        "print('Gauss-Legendre: ', integral)\n",
        "print('Gauss-Legendre-Radau (Lower end-point): ', integral2)\n",
        "print('Gauss-Legendre-Radau (Upper end-point): ', integral3)\n",
        "print('Gauss-Legendre-Lobatto (Both end-points): ', integral4)"
      ],
      "execution_count": 6,
      "outputs": [
        {
          "output_type": "stream",
          "text": [
            "Gauss-Legendre:  3.142857142857146\n",
            "Gauss-Legendre-Radau (Lower end-point):  3.1428571428571375\n",
            "Gauss-Legendre-Radau (Upper end-point):  3.142857142857139\n",
            "Gauss-Legendre-Lobatto (Both end-points):  3.1428571428571535\n"
          ],
          "name": "stdout"
        }
      ]
    },
    {
      "cell_type": "markdown",
      "metadata": {
        "id": "cS9kInycPF8E",
        "colab_type": "text"
      },
      "source": [
        "The full source code for this tutorial can be found [here](https://github.com/Effective-Quadratures/Effective-Quadratures/blob/master/source/_documentation/codes/tutorial_2.py)"
      ]
    }
  ]
}